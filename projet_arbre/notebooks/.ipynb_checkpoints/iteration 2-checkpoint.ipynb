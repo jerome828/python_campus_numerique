{
 "cells": [
  {
   "cell_type": "code",
   "execution_count": null,
   "metadata": {},
   "outputs": [],
   "source": [
    "from pathlib import Path\n",
    "import csv\n",
    "from csv import DictReader\n",
    "import numpy as np\n",
    "import matplotlib.pyplot as plt\n",
    "import time\n",
    "import operator"
   ]
  },
  {
   "cell_type": "code",
   "execution_count": null,
   "metadata": {},
   "outputs": [],
   "source": [
    "datapath = Path.cwd().parent / \"data\""
   ]
  },
  {
   "cell_type": "code",
   "execution_count": null,
   "metadata": {},
   "outputs": [],
   "source": [
    "datafile = datapath / \"ESP_PUBLIC.IDENTITE_ARBRE.csv\""
   ]
  },
  {
   "cell_type": "markdown",
   "metadata": {},
   "source": [
    "Read dataset in dictionary and remove strings ''"
   ]
  },
  {
   "cell_type": "code",
   "execution_count": null,
   "metadata": {},
   "outputs": [],
   "source": [
    "# iterate over each line as an ordered dictionary and print only few column by column name \n",
    "genre_bota = []\n",
    "csv_list = []\n",
    "with open(datafile, 'r') as read_obj:\n",
    "    csv_dict_reader = DictReader(read_obj)\n",
    "    for row in csv_dict_reader:\n",
    "        genre_bota.append(row['GENRE_BOTA'])\n",
    "        csv_list.append(row)\n",
    "\n",
    "# Remove \"\" from cropping dates\n",
    "while(\"\" in genre_bota) : \n",
    "    genre_bota.remove(\"\")\n"
   ]
  },
  {
   "cell_type": "code",
   "execution_count": null,
   "metadata": {},
   "outputs": [],
   "source": [
    "genre_bota[:10]"
   ]
  },
  {
   "cell_type": "markdown",
   "metadata": {},
   "source": [
    "## 2.1 Pour commencer identifiez tous les genres botaniques représentés à Grenoble. Combien y en a-t-il ?  Plusieurs manières de résoudre ce problème : "
   ]
  },
  {
   "cell_type": "code",
   "execution_count": null,
   "metadata": {},
   "outputs": [],
   "source": [
    "tic = time.perf_counter()\n",
    "unique_genre_bota_list = list(set(genre_bota))\n",
    "toc = time.perf_counter()\n",
    "print(f\"Exec time = {toc - tic:0.4f} seconds\")"
   ]
  },
  {
   "cell_type": "code",
   "execution_count": null,
   "metadata": {},
   "outputs": [],
   "source": [
    "len(unique_genre_bota_list)"
   ]
  },
  {
   "cell_type": "markdown",
   "metadata": {},
   "source": [
    "## 2.2 Identifiez maintenant toutes les espèces différentes présentes à Grenoble. N’oubliez pas que les espèces sont une sous catégorie de genre botanique ! (l’espèce est ‘Platanus Acerifolia’ et pas uniquement ‘Acerifolia’) "
   ]
  },
  {
   "cell_type": "code",
   "execution_count": null,
   "metadata": {},
   "outputs": [],
   "source": [
    "species =  list()\n",
    "\n",
    "for row in csv_list:\n",
    "    species.append(str(row['GENRE_BOTA'] + ' ' + row['ESPECE']))\n",
    "    \n",
    "# Remove \"\" from species\n",
    "while(\"\" in species) : \n",
    "    species.remove(\"\") "
   ]
  },
  {
   "cell_type": "code",
   "execution_count": null,
   "metadata": {},
   "outputs": [],
   "source": [
    "species[0:20]"
   ]
  },
  {
   "cell_type": "code",
   "execution_count": null,
   "metadata": {},
   "outputs": [],
   "source": [
    "unique_espece_list = list(set(species))"
   ]
  },
  {
   "cell_type": "code",
   "execution_count": null,
   "metadata": {},
   "outputs": [],
   "source": [
    "unique_espece_list.sort()"
   ]
  },
  {
   "cell_type": "code",
   "execution_count": null,
   "metadata": {},
   "outputs": [],
   "source": [
    "unique_espece_list"
   ]
  },
  {
   "cell_type": "markdown",
   "metadata": {},
   "source": [
    "## 2.3 En utilisant la structure de données Dict compter le nombre de représentants de chaque genre botanique"
   ]
  },
  {
   "cell_type": "code",
   "execution_count": null,
   "metadata": {},
   "outputs": [],
   "source": [
    "def count_elements(seq) -> dict:\n",
    "    \"\"\"Tally elements from `seq`.\"\"\"\n",
    "    hist = {}\n",
    "    for i in seq:\n",
    "        hist[i] = hist.get(i, 0) + 1\n",
    "    \n",
    "    return hist"
   ]
  },
  {
   "cell_type": "code",
   "execution_count": null,
   "metadata": {},
   "outputs": [],
   "source": [
    "sorted_genre_bota = sorted(genre_bota)\n",
    "sorted_genre_bota\n",
    "counted = count_elements(sorted_genre_bota)\n",
    "counted"
   ]
  },
  {
   "cell_type": "markdown",
   "metadata": {},
   "source": [
    "## 2.3.1 Quels sont les genres botaniques les plus représentés ?"
   ]
  },
  {
   "cell_type": "markdown",
   "metadata": {},
   "source": [
    "Let's sort the previous histogram by descending order, 1st solution :"
   ]
  },
  {
   "cell_type": "code",
   "execution_count": null,
   "metadata": {},
   "outputs": [],
   "source": [
    "sortedDict = sorted(counted.items(), key=operator.itemgetter(1), reverse=True)"
   ]
  },
  {
   "cell_type": "markdown",
   "metadata": {},
   "source": [
    "exampleDict.items renvoie la paire clé-valeur des éléments du dictionnaire. \n",
    "\n",
    "key=operator.itemgetter(1) spécifie que la clé de comparaison est la valeur du dictionnaire\n",
    "\n",
    "ou en utilisant une lambda comme clé :"
   ]
  },
  {
   "cell_type": "code",
   "execution_count": null,
   "metadata": {},
   "outputs": [],
   "source": [
    "sortedDict = sorted(counted.items(), key=lambda x: x[1], reverse=True)"
   ]
  },
  {
   "cell_type": "code",
   "execution_count": null,
   "metadata": {},
   "outputs": [],
   "source": [
    "sortedDict[0:20]"
   ]
  },
  {
   "cell_type": "markdown",
   "metadata": {},
   "source": [
    "!!!!! LAMBDA FUNCTIONS !!!!!\n",
    "\n",
    "lambda arguments : expression\n",
    "\n",
    "ex: Add 10 to argument a, and return the result"
   ]
  },
  {
   "cell_type": "code",
   "execution_count": null,
   "metadata": {},
   "outputs": [],
   "source": [
    "func_lambda_1 = lambda a : a + 10\n",
    "func_lambda_2 = lambda a,b : a * b"
   ]
  },
  {
   "cell_type": "code",
   "execution_count": null,
   "metadata": {},
   "outputs": [],
   "source": [
    "print(func_lambda_1(5))\n",
    "print(func_lambda_2(5,6))"
   ]
  },
  {
   "cell_type": "markdown",
   "metadata": {},
   "source": [
    "Other solution : Creation d'un dictionnaire {genre : nombre} "
   ]
  },
  {
   "cell_type": "code",
   "execution_count": null,
   "metadata": {},
   "outputs": [],
   "source": [
    "dict_genre_bota = dict()\n",
    "for key_genre in unique_genre_bota_list:\n",
    "    dict_genre_bota[key_genre] = genre_bota.count(key_genre)"
   ]
  },
  {
   "cell_type": "code",
   "execution_count": null,
   "metadata": {},
   "outputs": [],
   "source": [
    "dict_genre_bota"
   ]
  },
  {
   "cell_type": "code",
   "execution_count": null,
   "metadata": {},
   "outputs": [],
   "source": [
    "# sort_orders = sorted(dict_genre_bota.items(), key=lambda x: x[1], reverse=True)\n",
    "sorted_dicted_genre_bota = {key: val for key, val in sorted(dict_genre_bota.items(), key=lambda item: item[1], reverse=True)}"
   ]
  },
  {
   "cell_type": "code",
   "execution_count": null,
   "metadata": {},
   "outputs": [],
   "source": [
    "sorted_dicted_genre_bota"
   ]
  },
  {
   "cell_type": "markdown",
   "metadata": {},
   "source": [
    "## 2.3.1 Quelle est la proportion par rapport au total ?"
   ]
  },
  {
   "cell_type": "code",
   "execution_count": null,
   "metadata": {},
   "outputs": [],
   "source": [
    "total = 0\n",
    "for nb in sorted_dicted_genre_bota.values():\n",
    "    total += nb\n",
    "    \n",
    "total2 = sum([nb for nb in sorted_dicted_genre_bota.values()])"
   ]
  },
  {
   "cell_type": "code",
   "execution_count": null,
   "metadata": {},
   "outputs": [],
   "source": [
    "total2"
   ]
  },
  {
   "cell_type": "code",
   "execution_count": null,
   "metadata": {},
   "outputs": [],
   "source": [
    "total"
   ]
  },
  {
   "cell_type": "code",
   "execution_count": null,
   "metadata": {},
   "outputs": [],
   "source": [
    "proportion_dict = sorted_dicted_genre_bota.copy()\n",
    "for key in sorted_dicted_genre_bota:\n",
    "    proportion_dict[key] = 100*(proportion_dict[key] / total)"
   ]
  },
  {
   "cell_type": "code",
   "execution_count": null,
   "metadata": {},
   "outputs": [],
   "source": [
    "proportion_dict"
   ]
  },
  {
   "cell_type": "markdown",
   "metadata": {},
   "source": [
    "## 2.3.2 Listez tous les représentants uniques de leurs genre botanique"
   ]
  },
  {
   "cell_type": "code",
   "execution_count": null,
   "metadata": {},
   "outputs": [],
   "source": [
    "unique_genre_bota_list"
   ]
  },
  {
   "cell_type": "markdown",
   "metadata": {},
   "source": [
    "## 2.4 Idem précédemment mais en comptant les espèces"
   ]
  },
  {
   "cell_type": "markdown",
   "metadata": {},
   "source": [
    "Let's create a custom dictionary { (genre, espece) : nombre }"
   ]
  },
  {
   "cell_type": "code",
   "execution_count": null,
   "metadata": {},
   "outputs": [],
   "source": [
    "# Création d'une liste de tuple (genre, espece)\n",
    "list_of_tuple = []\n",
    "for row in csv_list:\n",
    "    if row['ESPECE'] != '' :\n",
    "        list_of_tuple.append( tuple([row['GENRE_BOTA'],row['ESPECE']]) )\n",
    "    else:\n",
    "        list_of_tuple.append( tuple([row['GENRE_BOTA'],'unknown']))"
   ]
  },
  {
   "cell_type": "code",
   "execution_count": null,
   "metadata": {},
   "outputs": [],
   "source": [
    "list_of_tuple = [t for t in list_of_tuple if (t[0] != '' and t[1] != '') ]\n",
    "unique_tuples = set(list_of_tuple)\n",
    "unique_tuples"
   ]
  },
  {
   "cell_type": "code",
   "execution_count": null,
   "metadata": {},
   "outputs": [],
   "source": [
    "dict_genre_espece = dict()\n",
    "# On se sert de ce set pour itérer et construire le dictionnaire \n",
    "for key in unique_tuples: \n",
    "    dict_genre_espece[key] = list_of_tuple.count(key)"
   ]
  },
  {
   "cell_type": "code",
   "execution_count": null,
   "metadata": {},
   "outputs": [],
   "source": [
    "dict_genre_espece"
   ]
  },
  {
   "cell_type": "code",
   "execution_count": null,
   "metadata": {},
   "outputs": [],
   "source": [
    "total_dict_genre_espece = sum([nb for nb in dict_genre_espece.values()])"
   ]
  },
  {
   "cell_type": "code",
   "execution_count": null,
   "metadata": {},
   "outputs": [],
   "source": [
    "total_dict_genre_espece"
   ]
  },
  {
   "cell_type": "code",
   "execution_count": null,
   "metadata": {},
   "outputs": [],
   "source": [
    "proportion_genre_espece_dict = dict_genre_espece.copy()\n",
    "for key in dict_genre_espece:\n",
    "    proportion_genre_espece_dict[key] = 100*(proportion_genre_espece_dict[key] / total)"
   ]
  },
  {
   "cell_type": "code",
   "execution_count": null,
   "metadata": {},
   "outputs": [],
   "source": [
    "proportion_genre_espece_dict"
   ]
  },
  {
   "cell_type": "code",
   "execution_count": null,
   "metadata": {},
   "outputs": [],
   "source": [
    "max_specie = max(proportion_genre_espece_dict.items(), key=operator.itemgetter(1))[0]"
   ]
  },
  {
   "cell_type": "code",
   "execution_count": null,
   "metadata": {},
   "outputs": [],
   "source": [
    "max_specie"
   ]
  },
  {
   "cell_type": "code",
   "execution_count": null,
   "metadata": {},
   "outputs": [],
   "source": [
    "proportion_genre_espece_dict[max_specie]"
   ]
  },
  {
   "cell_type": "markdown",
   "metadata": {},
   "source": [
    "## 2.5 Comment la pratique de plantation a-t-elle évolué au cours du temps ? Diversifie-t-on plus maintenant qu’avant ?"
   ]
  },
  {
   "cell_type": "code",
   "execution_count": 244,
   "metadata": {},
   "outputs": [
    {
     "data": {
      "text/plain": [
       "[('Acer', '', '1975'),\n",
       " ('Acer', '', '1975'),\n",
       " ('Fraxinus', 'excelsior', '2001'),\n",
       " ('Carpinus', 'betulus', '1975'),\n",
       " ('Alnus', 'cordata', '2006')]"
      ]
     },
     "execution_count": 244,
     "metadata": {},
     "output_type": "execute_result"
    }
   ],
   "source": [
    "list_years_species = list()\n",
    "for row in csv_list:\n",
    "#     if( row['GENRE_BOTA'] != '' and row['ESPECE'] != '' and row['ANNEEDEPLANTATION'] != '' ):\n",
    "    if( row['GENRE_BOTA'] != '' and row['ANNEEDEPLANTATION'] != '' ):\n",
    "        list_years_species.append((row['GENRE_BOTA'],row['ESPECE'],row['ANNEEDEPLANTATION']))\n",
    "        \n",
    "list_years_species[0:5]"
   ]
  },
  {
   "cell_type": "code",
   "execution_count": 250,
   "metadata": {},
   "outputs": [
    {
     "data": {
      "text/plain": [
       "float"
      ]
     },
     "execution_count": 250,
     "metadata": {},
     "output_type": "execute_result"
    }
   ],
   "source": [
    "type(float('1975'))\n",
    "    "
   ]
  },
  {
   "cell_type": "code",
   "execution_count": null,
   "metadata": {},
   "outputs": [],
   "source": [
    "list_species_2006 = list()\n",
    "list_species_2017 = list()\n",
    "\n",
    "for year_specie in list_years_species:\n",
    "    if(int(year_specie[2]) < 2007):\n",
    "        list_species_2006.append((year_specie[0],year_specie[1]))\n",
    "\n",
    "for year_specie in list_years_species:\n",
    "    if(int(year_specie[2]) < 2018):\n",
    "        list_species_2017.append((year_specie[0],year_specie[1]))\n",
    "    "
   ]
  },
  {
   "cell_type": "code",
   "execution_count": null,
   "metadata": {},
   "outputs": [],
   "source": [
    "list_species_2006"
   ]
  },
  {
   "cell_type": "code",
   "execution_count": null,
   "metadata": {},
   "outputs": [],
   "source": [
    "unique_list_species_2006 = len(set(list_species_2006))\n",
    "unique_list_species_2017 = len(set(list_species_2017))"
   ]
  },
  {
   "cell_type": "code",
   "execution_count": null,
   "metadata": {},
   "outputs": [],
   "source": [
    "unique_list_species_2006"
   ]
  },
  {
   "cell_type": "code",
   "execution_count": null,
   "metadata": {},
   "outputs": [],
   "source": [
    "unique_list_species_2017"
   ]
  },
  {
   "cell_type": "code",
   "execution_count": null,
   "metadata": {},
   "outputs": [],
   "source": []
  }
 ],
 "metadata": {
  "kernelspec": {
   "display_name": "Python [conda env:campus_numerique] *",
   "language": "python",
   "name": "conda-env-campus_numerique-py"
  },
  "language_info": {
   "codemirror_mode": {
    "name": "ipython",
    "version": 3
   },
   "file_extension": ".py",
   "mimetype": "text/x-python",
   "name": "python",
   "nbconvert_exporter": "python",
   "pygments_lexer": "ipython3",
   "version": "3.8.5"
  }
 },
 "nbformat": 4,
 "nbformat_minor": 4
}
