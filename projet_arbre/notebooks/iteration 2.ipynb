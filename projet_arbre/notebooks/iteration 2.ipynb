{
 "cells": [
  {
   "cell_type": "code",
   "execution_count": null,
   "metadata": {},
   "outputs": [],
   "source": [
    "from pathlib import Path\n",
    "import csv\n",
    "from csv import DictReader\n",
    "import numpy as np\n",
    "import matplotlib.pyplot as plt\n",
    "import time\n",
    "import operator"
   ]
  },
  {
   "cell_type": "code",
   "execution_count": null,
   "metadata": {},
   "outputs": [],
   "source": [
    "datapath = Path.cwd().parent / \"data\""
   ]
  },
  {
   "cell_type": "code",
   "execution_count": null,
   "metadata": {},
   "outputs": [],
   "source": [
    "datafile = datapath / \"ESP_PUBLIC.IDENTITE_ARBRE.csv\""
   ]
  },
  {
   "cell_type": "markdown",
   "metadata": {},
   "source": [
    "Read dataset in dictionary and remove strings ''"
   ]
  },
  {
   "cell_type": "code",
   "execution_count": null,
   "metadata": {},
   "outputs": [],
   "source": [
    "# iterate over each line as an ordered dictionary and print only few column by column name \n",
    "genre_bota = []\n",
    "csv_list = []\n",
    "with open(datafile, 'r') as read_obj:\n",
    "    csv_dict_reader = DictReader(read_obj)\n",
    "    for row in csv_dict_reader:\n",
    "        genre_bota.append(row['GENRE_BOTA'])\n",
    "        csv_list.append(row)\n",
    "\n",
    "# Remove \"\" from cropping dates\n",
    "while(\"\" in genre_bota) : \n",
    "    genre_bota.remove(\"\")\n"
   ]
  },
  {
   "cell_type": "code",
   "execution_count": null,
   "metadata": {},
   "outputs": [],
   "source": [
    "genre_bota[:10]"
   ]
  },
  {
   "cell_type": "markdown",
   "metadata": {},
   "source": [
    "## 2.1 Pour commencer identifiez tous les genres botaniques représentés à Grenoble. Combien y en a-t-il ?  Plusieurs manières de résoudre ce problème : "
   ]
  },
  {
   "cell_type": "code",
   "execution_count": null,
   "metadata": {},
   "outputs": [],
   "source": [
    "tic = time.perf_counter()\n",
    "unique_genre_bota_list = list(set(genre_bota))\n",
    "toc = time.perf_counter()\n",
    "print(f\"Exec time = {toc - tic:0.4f} seconds\")"
   ]
  },
  {
   "cell_type": "code",
   "execution_count": null,
   "metadata": {},
   "outputs": [],
   "source": [
    "len(unique_genre_bota_list)"
   ]
  },
  {
   "cell_type": "markdown",
   "metadata": {},
   "source": [
    "## 2.2 Identifiez maintenant toutes les espèces différentes présentes à Grenoble. N’oubliez pas que les espèces sont une sous catégorie de genre botanique ! (l’espèce est ‘Platanus Acerifolia’ et pas uniquement ‘Acerifolia’) "
   ]
  },
  {
   "cell_type": "code",
   "execution_count": null,
   "metadata": {},
   "outputs": [],
   "source": [
    "species =  list()\n",
    "\n",
    "for row in csv_list:\n",
    "    species.append(str(row['GENRE_BOTA'] + ' ' + row['ESPECE']))\n",
    "    \n",
    "# Remove \"\" from species\n",
    "while(\"\" in species) : \n",
    "    species.remove(\"\") "
   ]
  },
  {
   "cell_type": "code",
   "execution_count": null,
   "metadata": {},
   "outputs": [],
   "source": [
    "species[0:20]"
   ]
  },
  {
   "cell_type": "code",
   "execution_count": null,
   "metadata": {},
   "outputs": [],
   "source": [
    "unique_espece_list = list(set(species))"
   ]
  },
  {
   "cell_type": "code",
   "execution_count": null,
   "metadata": {},
   "outputs": [],
   "source": [
    "unique_espece_list.sort()"
   ]
  },
  {
   "cell_type": "code",
   "execution_count": null,
   "metadata": {},
   "outputs": [],
   "source": [
    "unique_espece_list"
   ]
  },
  {
   "cell_type": "markdown",
   "metadata": {},
   "source": [
    "## 2.3 En utilisant la structure de données Dict compter le nombre de représentants de chaque genre botanique"
   ]
  },
  {
   "cell_type": "code",
   "execution_count": null,
   "metadata": {},
   "outputs": [],
   "source": [
    "def count_elements(seq) -> dict:\n",
    "    \"\"\"Tally elements from `seq`.\"\"\"\n",
    "    hist = {}\n",
    "    for i in seq:\n",
    "        hist[i] = hist.get(i, 0) + 1\n",
    "    \n",
    "    return hist"
   ]
  },
  {
   "cell_type": "code",
   "execution_count": null,
   "metadata": {},
   "outputs": [],
   "source": [
    "sorted_genre_bota = sorted(genre_bota)\n",
    "sorted_genre_bota\n",
    "counted = count_elements(sorted_genre_bota)\n",
    "counted"
   ]
  },
  {
   "cell_type": "markdown",
   "metadata": {},
   "source": [
    "## 2.3.1 Quels sont les genres botaniques les plus représentés ?"
   ]
  },
  {
   "cell_type": "markdown",
   "metadata": {},
   "source": [
    "Let's sort the previous histogram by descending order, 1st solution :"
   ]
  },
  {
   "cell_type": "code",
   "execution_count": null,
   "metadata": {},
   "outputs": [],
   "source": [
    "sortedDict = sorted(counted.items(), key=operator.itemgetter(1), reverse=True)"
   ]
  },
  {
   "cell_type": "markdown",
   "metadata": {},
   "source": [
    "exampleDict.items renvoie la paire clé-valeur des éléments du dictionnaire. \n",
    "\n",
    "key=operator.itemgetter(1) spécifie que la clé de comparaison est la valeur du dictionnaire\n",
    "\n",
    "ou en utilisant une lambda comme clé :"
   ]
  },
  {
   "cell_type": "code",
   "execution_count": null,
   "metadata": {},
   "outputs": [],
   "source": [
    "sortedDict = sorted(counted.items(), key=lambda x: x[1], reverse=True)"
   ]
  },
  {
   "cell_type": "code",
   "execution_count": null,
   "metadata": {},
   "outputs": [],
   "source": [
    "sortedDict[0:20]"
   ]
  },
  {
   "cell_type": "markdown",
   "metadata": {},
   "source": [
    "!!!!! LAMBDA FUNCTIONS !!!!!\n",
    "\n",
    "lambda arguments : expression\n",
    "\n",
    "ex: Add 10 to argument a, and return the result"
   ]
  },
  {
   "cell_type": "code",
   "execution_count": null,
   "metadata": {},
   "outputs": [],
   "source": [
    "func_lambda_1 = lambda a : a + 10\n",
    "func_lambda_2 = lambda a,b : a * b"
   ]
  },
  {
   "cell_type": "code",
   "execution_count": null,
   "metadata": {},
   "outputs": [],
   "source": [
    "print(func_lambda_1(5))\n",
    "print(func_lambda_2(5,6))"
   ]
  },
  {
   "cell_type": "markdown",
   "metadata": {},
   "source": [
    "Other solution : Creation d'un dictionnaire {genre : nombre} "
   ]
  },
  {
   "cell_type": "code",
   "execution_count": null,
   "metadata": {},
   "outputs": [],
   "source": [
    "dict_genre_bota = dict()\n",
    "for key_genre in unique_genre_bota_list:\n",
    "    dict_genre_bota[key_genre] = genre_bota.count(key_genre)"
   ]
  },
  {
   "cell_type": "code",
   "execution_count": null,
   "metadata": {},
   "outputs": [],
   "source": [
    "dict_genre_bota"
   ]
  },
  {
   "cell_type": "code",
   "execution_count": null,
   "metadata": {},
   "outputs": [],
   "source": [
    "# sort_orders = sorted(dict_genre_bota.items(), key=lambda x: x[1], reverse=True)\n",
    "sorted_dicted_genre_bota = {key: val for key, val in sorted(dict_genre_bota.items(), key=lambda item: item[1], reverse=True)}"
   ]
  },
  {
   "cell_type": "code",
   "execution_count": null,
   "metadata": {},
   "outputs": [],
   "source": [
    "sorted_dicted_genre_bota"
   ]
  },
  {
   "cell_type": "markdown",
   "metadata": {},
   "source": [
    "## 2.3.1 Quelle est la proportion par rapport au total ?"
   ]
  },
  {
   "cell_type": "code",
   "execution_count": null,
   "metadata": {},
   "outputs": [],
   "source": [
    "total = 0\n",
    "for nb in sorted_dicted_genre_bota.values():\n",
    "    total += nb\n",
    "    \n",
    "total2 = sum([nb for nb in sorted_dicted_genre_bota.values()])"
   ]
  },
  {
   "cell_type": "code",
   "execution_count": null,
   "metadata": {},
   "outputs": [],
   "source": [
    "total2"
   ]
  },
  {
   "cell_type": "code",
   "execution_count": null,
   "metadata": {},
   "outputs": [],
   "source": [
    "total"
   ]
  },
  {
   "cell_type": "code",
   "execution_count": null,
   "metadata": {},
   "outputs": [],
   "source": [
    "proportion_dict = sorted_dicted_genre_bota.copy()\n",
    "for key in sorted_dicted_genre_bota:\n",
    "    proportion_dict[key] = 100*(proportion_dict[key] / total)"
   ]
  },
  {
   "cell_type": "code",
   "execution_count": 252,
   "metadata": {},
   "outputs": [
    {
     "data": {
      "text/plain": [
       "{'Acer': 16.72283334393082,\n",
       " 'Platanus': 14.672219749475424,\n",
       " 'Pinus': 6.596935206968907,\n",
       " 'Tilia': 5.646340687988809,\n",
       " 'Fraxinus': 4.816557512558021,\n",
       " 'Carpinus': 4.209321548928594,\n",
       " 'Betula': 3.8723214853436763,\n",
       " 'Prunus': 3.7197176829656007,\n",
       " 'Populus': 2.8962929993005657,\n",
       " 'Alnus': 2.5942646404272907,\n",
       " 'Liquidambar': 2.575189165130031,\n",
       " 'Quercus': 2.463915559229351,\n",
       " 'Pyrus': 1.8185286450054048,\n",
       " 'Liriodendron': 1.6277738920328098,\n",
       " 'Aesculus': 1.4688115978889809,\n",
       " 'Magnolia': 1.4338398931773382,\n",
       " 'Sophora': 1.344821008456794,\n",
       " 'Cedrus': 1.3193870413937814,\n",
       " 'Gleditsia': 1.1826794684300883,\n",
       " 'Chamaecyparis': 1.1667832390157056,\n",
       " 'Malus': 1.087302091943791,\n",
       " 'Cercis': 1.0777643542951612,\n",
       " 'Koelreuteria': 0.9124435683855789,\n",
       " 'Zelkova': 0.8870096013225662,\n",
       " 'Fagus': 0.8774718636739365,\n",
       " 'Robinia': 0.8552171424938004,\n",
       " 'Picea': 0.8170661918992815,\n",
       " 'Celtis': 0.7121510777643543,\n",
       " 'Ulmus': 0.6867171107013417,\n",
       " 'Cupressus': 0.6740001271698353,\n",
       " 'Corylus': 0.6485661601068227,\n",
       " 'Taxus': 0.6453869142239461,\n",
       " 'Amélanchier': 0.4546321612513512,\n",
       " 'Salix': 0.44191517771984484,\n",
       " 'Catalpa': 0.3719717682965601,\n",
       " 'Crataegus': 0.3656132765308069,\n",
       " 'Ginkgo': 0.3624340306479303,\n",
       " 'Paulownia': 0.33700006358491763,\n",
       " 'Morus': 0.33382081770204103,\n",
       " 'Sorbus': 0.3179245882876581,\n",
       " 'Cupressocyparis': 0.30838685063902843,\n",
       " 'Metasequoia': 0.2670566541616329,\n",
       " 'Tetradium': 0.2575189165130031,\n",
       " 'Ailanthus': 0.25116042474725,\n",
       " 'Ostrya': 0.23526419533286702,\n",
       " 'Juglans': 0.23208494944999047,\n",
       " 'Parrotia': 0.20665098238697782,\n",
       " 'Albizia': 0.20347173650410122,\n",
       " 'Chionanthus': 0.20029249062122464,\n",
       " 'Lagerstroemia': 0.18439626120684174,\n",
       " 'Pterocarya': 0.17167927767533542,\n",
       " 'Cedrela': 0.16532078590958227,\n",
       " 'Cladastris': 0.14942455649519934,\n",
       " 'Thuja': 0.14942455649519934,\n",
       " 'Libocedrus': 0.1398868188465696,\n",
       " 'Syringa': 0.13034908119793984,\n",
       " 'Sambucus': 0.11445285178355695,\n",
       " 'Ilex': 0.09537737648629745,\n",
       " 'Abies': 0.08266039295479113,\n",
       " 'Broussonetia': 0.08266039295479113,\n",
       " 'Ficus': 0.07948114707191453,\n",
       " 'Cornus': 0.07948114707191453,\n",
       " 'Diospyros': 0.07312265530616138,\n",
       " 'Trachycarpus': 0.07312265530616138,\n",
       " 'Cydonia': 0.06040567177465505,\n",
       " 'Phellodendron': 0.054047180008901886,\n",
       " 'Eleagnus': 0.050867934126025305,\n",
       " 'Pteroceltis': 0.04768868824314872,\n",
       " 'Buxus': 0.04768868824314872,\n",
       " 'Halesia': 0.03815095059451898,\n",
       " 'Cercidiphyllum': 0.03815095059451898,\n",
       " 'Taxodium': 0.0349717047116424,\n",
       " 'Laburnum': 0.0349717047116424,\n",
       " 'Pistacia': 0.031792458828765816,\n",
       " 'Ligustrum': 0.031792458828765816,\n",
       " 'Sequoiadendron': 0.028613212945889237,\n",
       " 'Maclura': 0.028613212945889237,\n",
       " 'Gymnocladus': 0.028613212945889237,\n",
       " 'Mespilus': 0.028613212945889237,\n",
       " 'Photinia': 0.028613212945889237,\n",
       " 'Cotinus': 0.028613212945889237,\n",
       " 'Olea': 0.025433967063012652,\n",
       " 'Davidia': 0.025433967063012652,\n",
       " 'Rhus': 0.025433967063012652,\n",
       " 'Chitalpa': 0.02225472118013607,\n",
       " 'Sequoia': 0.01907547529725949,\n",
       " 'Lonicera': 0.01907547529725949,\n",
       " 'Pterostyrax': 0.01907547529725949,\n",
       " 'Fontanesia': 0.01907547529725949,\n",
       " 'Calocedrus': 0.01907547529725949,\n",
       " 'Larix': 0.015896229414382908,\n",
       " 'Clerodendron': 0.015896229414382908,\n",
       " 'Idesia': 0.015896229414382908,\n",
       " 'Juniperus': 0.012716983531506326,\n",
       " 'Ptelea': 0.012716983531506326,\n",
       " 'Punica': 0.012716983531506326,\n",
       " 'Hibiscus': 0.009537737648629745,\n",
       " 'Styrax': 0.009537737648629745,\n",
       " 'Phillyrea': 0.009537737648629745,\n",
       " 'Eriobotrya ': 0.009537737648629745,\n",
       " 'Cephalotaxus': 0.009537737648629745,\n",
       " 'Chimonanthus': 0.009537737648629745,\n",
       " 'Carya': 0.009537737648629745,\n",
       " 'Cryptomeria': 0.006358491765753163,\n",
       " 'Hovenia': 0.006358491765753163,\n",
       " 'Araucaria': 0.006358491765753163,\n",
       " 'Euodia': 0.006358491765753163,\n",
       " 'Nyssa': 0.0031792458828765816,\n",
       " 'Sorbopyrus': 0.0031792458828765816,\n",
       " 'Pseudotsuga': 0.0031792458828765816,\n",
       " 'Sciadopitys': 0.0031792458828765816,\n",
       " 'Acacia': 0.0031792458828765816,\n",
       " 'Staphylea': 0.0031792458828765816,\n",
       " 'Eucalyptus': 0.0031792458828765816,\n",
       " 'Sterculia': 0.0031792458828765816,\n",
       " 'Laurus': 0.0031792458828765816,\n",
       " 'Poncinos': 0.0031792458828765816,\n",
       " 'Castanea': 0.0031792458828765816,\n",
       " 'Rhamnus': 0.0031792458828765816}"
      ]
     },
     "execution_count": 252,
     "metadata": {},
     "output_type": "execute_result"
    }
   ],
   "source": [
    "proportion_dict"
   ]
  },
  {
   "cell_type": "markdown",
   "metadata": {},
   "source": [
    "## 2.3.2 Listez tous les représentants uniques de leurs genre botanique"
   ]
  },
  {
   "cell_type": "code",
   "execution_count": null,
   "metadata": {},
   "outputs": [],
   "source": [
    "unique_genre_bota_list"
   ]
  },
  {
   "cell_type": "markdown",
   "metadata": {},
   "source": [
    "## 2.4 Idem précédemment mais en comptant les espèces"
   ]
  },
  {
   "cell_type": "markdown",
   "metadata": {},
   "source": [
    "Let's create a custom dictionary { (genre, espece) : nombre }"
   ]
  },
  {
   "cell_type": "code",
   "execution_count": null,
   "metadata": {},
   "outputs": [],
   "source": [
    "# Création d'une liste de tuple (genre, espece)\n",
    "list_of_tuple = []\n",
    "for row in csv_list:\n",
    "    if row['ESPECE'] != '' :\n",
    "        list_of_tuple.append( tuple([row['GENRE_BOTA'],row['ESPECE']]) )\n",
    "    else:\n",
    "        list_of_tuple.append( tuple([row['GENRE_BOTA'],'unknown']))"
   ]
  },
  {
   "cell_type": "code",
   "execution_count": null,
   "metadata": {},
   "outputs": [],
   "source": [
    "list_of_tuple = [t for t in list_of_tuple if (t[0] != '' and t[1] != '') ]\n",
    "unique_tuples = set(list_of_tuple)\n",
    "unique_tuples"
   ]
  },
  {
   "cell_type": "code",
   "execution_count": null,
   "metadata": {},
   "outputs": [],
   "source": [
    "dict_genre_espece = dict()\n",
    "# On se sert de ce set pour itérer et construire le dictionnaire \n",
    "for key in unique_tuples: \n",
    "    dict_genre_espece[key] = list_of_tuple.count(key)"
   ]
  },
  {
   "cell_type": "code",
   "execution_count": null,
   "metadata": {},
   "outputs": [],
   "source": [
    "dict_genre_espece"
   ]
  },
  {
   "cell_type": "code",
   "execution_count": null,
   "metadata": {},
   "outputs": [],
   "source": [
    "total_dict_genre_espece = sum([nb for nb in dict_genre_espece.values()])"
   ]
  },
  {
   "cell_type": "code",
   "execution_count": null,
   "metadata": {},
   "outputs": [],
   "source": [
    "total_dict_genre_espece"
   ]
  },
  {
   "cell_type": "code",
   "execution_count": null,
   "metadata": {},
   "outputs": [],
   "source": [
    "proportion_genre_espece_dict = dict_genre_espece.copy()\n",
    "for key in dict_genre_espece:\n",
    "    proportion_genre_espece_dict[key] = 100*(proportion_genre_espece_dict[key] / total)"
   ]
  },
  {
   "cell_type": "code",
   "execution_count": null,
   "metadata": {},
   "outputs": [],
   "source": [
    "proportion_genre_espece_dict"
   ]
  },
  {
   "cell_type": "code",
   "execution_count": null,
   "metadata": {},
   "outputs": [],
   "source": [
    "max_specie = max(proportion_genre_espece_dict.items(), key=operator.itemgetter(1))[0]"
   ]
  },
  {
   "cell_type": "code",
   "execution_count": null,
   "metadata": {},
   "outputs": [],
   "source": [
    "max_specie"
   ]
  },
  {
   "cell_type": "code",
   "execution_count": null,
   "metadata": {},
   "outputs": [],
   "source": [
    "proportion_genre_espece_dict[max_specie]"
   ]
  },
  {
   "cell_type": "markdown",
   "metadata": {},
   "source": [
    "## 2.5 Comment la pratique de plantation a-t-elle évolué au cours du temps ? Diversifie-t-on plus maintenant qu’avant ?"
   ]
  },
  {
   "cell_type": "code",
   "execution_count": 244,
   "metadata": {},
   "outputs": [
    {
     "data": {
      "text/plain": [
       "[('Acer', '', '1975'),\n",
       " ('Acer', '', '1975'),\n",
       " ('Fraxinus', 'excelsior', '2001'),\n",
       " ('Carpinus', 'betulus', '1975'),\n",
       " ('Alnus', 'cordata', '2006')]"
      ]
     },
     "execution_count": 244,
     "metadata": {},
     "output_type": "execute_result"
    }
   ],
   "source": [
    "list_years_species = list()\n",
    "for row in csv_list:\n",
    "#     if( row['GENRE_BOTA'] != '' and row['ESPECE'] != '' and row['ANNEEDEPLANTATION'] != '' ):\n",
    "    if( row['GENRE_BOTA'] != '' and row['ANNEEDEPLANTATION'] != '' ):\n",
    "        list_years_species.append((row['GENRE_BOTA'],row['ESPECE'],row['ANNEEDEPLANTATION']))\n",
    "        \n",
    "list_years_species[0:5]"
   ]
  },
  {
   "cell_type": "code",
   "execution_count": 251,
   "metadata": {},
   "outputs": [
    {
     "data": {
      "text/plain": [
       "float"
      ]
     },
     "execution_count": 251,
     "metadata": {},
     "output_type": "execute_result"
    }
   ],
   "source": [
    "type(float('1975'))\n",
    "    "
   ]
  },
  {
   "cell_type": "code",
   "execution_count": null,
   "metadata": {},
   "outputs": [],
   "source": [
    "list_species_2006 = list()\n",
    "list_species_2017 = list()\n",
    "\n",
    "for year_specie in list_years_species:\n",
    "    if(int(year_specie[2]) < 2007):\n",
    "        list_species_2006.append((year_specie[0],year_specie[1]))\n",
    "\n",
    "for year_specie in list_years_species:\n",
    "    if(int(year_specie[2]) < 2018):\n",
    "        list_species_2017.append((year_specie[0],year_specie[1]))\n",
    "    "
   ]
  },
  {
   "cell_type": "code",
   "execution_count": null,
   "metadata": {},
   "outputs": [],
   "source": [
    "list_species_2006"
   ]
  },
  {
   "cell_type": "code",
   "execution_count": null,
   "metadata": {},
   "outputs": [],
   "source": [
    "unique_list_species_2006 = len(set(list_species_2006))\n",
    "unique_list_species_2017 = len(set(list_species_2017))"
   ]
  },
  {
   "cell_type": "code",
   "execution_count": null,
   "metadata": {},
   "outputs": [],
   "source": [
    "unique_list_species_2006"
   ]
  },
  {
   "cell_type": "code",
   "execution_count": null,
   "metadata": {},
   "outputs": [],
   "source": [
    "unique_list_species_2017"
   ]
  },
  {
   "cell_type": "code",
   "execution_count": null,
   "metadata": {},
   "outputs": [],
   "source": []
  }
 ],
 "metadata": {
  "kernelspec": {
   "display_name": "Python [conda env:campus_numerique] *",
   "language": "python",
   "name": "conda-env-campus_numerique-py"
  },
  "language_info": {
   "codemirror_mode": {
    "name": "ipython",
    "version": 3
   },
   "file_extension": ".py",
   "mimetype": "text/x-python",
   "name": "python",
   "nbconvert_exporter": "python",
   "pygments_lexer": "ipython3",
   "version": "3.8.5"
  }
 },
 "nbformat": 4,
 "nbformat_minor": 4
}
